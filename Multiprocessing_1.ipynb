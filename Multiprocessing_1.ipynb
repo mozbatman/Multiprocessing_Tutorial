{
 "cells": [
  {
   "cell_type": "markdown",
   "metadata": {},
   "source": [
    "# Multiprocess"
   ]
  },
  {
   "cell_type": "markdown",
   "metadata": {},
   "source": [
    "Multiprocess, bir sistemin aynı anda birden fazla işi destekleme yeteneğidir. Çok işlemcili bir sistemde uygulamalar bağımsız çalışan küçük parçalara bölünür ve eş zamanlı olarak işlemeye olanak sağlar."
   ]
  },
  {
   "cell_type": "markdown",
   "metadata": {},
   "source": [
    "Veriler, Value veya Array kullanarak bellek haritasında paylaşılabilir."
   ]
  },
  {
   "cell_type": "markdown",
   "metadata": {},
   "source": [
    "Çok İşlemcili Bir Sistem;\n",
    "- Birden fazla merkezi işlemciye \n",
    "- Çok çekirdekli işlemciye sahip olabilir "
   ]
  },
  {
   "cell_type": "code",
   "execution_count": 5,
   "metadata": {},
   "outputs": [
    {
     "name": "stdout",
     "output_type": "stream",
     "text": [
      "Bitti\n"
     ]
    }
   ],
   "source": [
    "from multiprocessing import Process\n",
    "\n",
    "def kup_al(num):\n",
    "    \n",
    "    print(\"Kup: {}\".format(num * num * num))\n",
    "    \n",
    "def kare_al(num):\n",
    "    print(\"Kare: {}\".format(num * num))\n",
    "    \n",
    "if __name__ == \"__main__\":\n",
    "    \n",
    "    # Processler oluşturuldu\n",
    "    p1 = Process(target=kup_al, args=(10,))\n",
    "    p2 = Process(target=kare_al, args=(10,))\n",
    "    \n",
    "    # Processler çalıştırıldı\n",
    "    p1.start()\n",
    "    p2.start()\n",
    "    \n",
    "    # Processlerin bitmesi beklenir\n",
    "    p1.join()\n",
    "    p2.join()\n",
    "    \n",
    "    # İşlem bitti\n",
    "    print(\"Bitti\")\n",
    "    "
   ]
  },
  {
   "cell_type": "markdown",
   "metadata": {},
   "source": [
    "- target = process tarafında yürütülecek fonksiyon\n",
    "- args = target işlemine iletilecek argümanlar"
   ]
  },
  {
   "cell_type": "markdown",
   "metadata": {},
   "source": [
    "- start() processi çalıştırmak için kullanılır\n",
    "- join() processler çalışırken mevcut programda ilerleyecektir. proceessleri bitmesini beklemek için kullanılır."
   ]
  },
  {
   "cell_type": "markdown",
   "metadata": {},
   "source": [
    "Aşşağıda pogramın process id lerini yazdıran bir örnek verilmiştir."
   ]
  },
  {
   "cell_type": "code",
   "execution_count": 6,
   "metadata": {
    "scrolled": true
   },
   "outputs": [
    {
     "name": "stdout",
     "output_type": "stream",
     "text": [
      "ID of main process: 9808\n",
      "ID of process p1: 9984\n",
      "ID of process p2: 3808\n",
      "Both processes finished execution!\n",
      "Process p1 is alive: False\n",
      "Process p2 is alive: False\n"
     ]
    }
   ],
   "source": [
    "# importing the multiprocessing module \n",
    "import multiprocessing \n",
    "import os \n",
    "  \n",
    "def worker1(): \n",
    "    # printing process id \n",
    "    print(\"ID of process running worker1: {}\".format(os.getpid())) \n",
    "  \n",
    "def worker2(): \n",
    "    # printing process id \n",
    "    print(\"ID of process running worker2: {}\".format(os.getpid())) \n",
    "  \n",
    "if __name__ == \"__main__\": \n",
    "    # printing main program process id \n",
    "    print(\"ID of main process: {}\".format(os.getpid())) \n",
    "  \n",
    "    # creating processes \n",
    "    p1 = multiprocessing.Process(target=worker1) \n",
    "    p2 = multiprocessing.Process(target=worker2) \n",
    "  \n",
    "    # starting processes \n",
    "    p1.start() \n",
    "    p2.start() \n",
    "  \n",
    "    # process IDs \n",
    "    print(\"ID of process p1: {}\".format(p1.pid)) \n",
    "    print(\"ID of process p2: {}\".format(p2.pid)) \n",
    "  \n",
    "    # wait until processes are finished \n",
    "    p1.join() \n",
    "    p2.join() \n",
    "  \n",
    "    # both processes finished \n",
    "    print(\"Both processes finished execution!\") \n",
    "  \n",
    "    # check if processes are alive \n",
    "    print(\"Process p1 is alive: {}\".format(p1.is_alive())) \n",
    "    print(\"Process p2 is alive: {}\".format(p2.is_alive())) "
   ]
  },
  {
   "cell_type": "markdown",
   "metadata": {},
   "source": [
    "# Sharing state between processes"
   ]
  },
  {
   "cell_type": "markdown",
   "metadata": {},
   "source": [
    "Eş zamanlı programlamada mümkün olduğunca veri paylaşımdan kaçınmak gerekir.\n",
    "Ancak ortak verilerin kullanılması gerekirse aşşağıdaki şekilde yapılabilir."
   ]
  },
  {
   "cell_type": "markdown",
   "metadata": {},
   "source": [
    "## Shared Memory"
   ]
  },
  {
   "cell_type": "markdown",
   "metadata": {},
   "source": [
    "Veriler, Value veya Array kullanarak bellek haritasında paylaşılabilir."
   ]
  },
  {
   "cell_type": "code",
   "execution_count": 1,
   "metadata": {},
   "outputs": [
    {
     "name": "stdout",
     "output_type": "stream",
     "text": [
      "0.0\n",
      "[0, 1, 2, 3, 4, 5, 6, 7, 8, 9]\n"
     ]
    }
   ],
   "source": [
    "from multiprocessing import Process, Value, Array\n",
    "\n",
    "def f(n, a):\n",
    "    n.value = 3.1415927\n",
    "    for i in range(len(a)):\n",
    "        a[i] = -a[i]\n",
    "\n",
    "if __name__ == '__main__':\n",
    "    num = Value('d', 0.0)\n",
    "    arr = Array('i', range(10))\n",
    "\n",
    "    p = Process(target=f, args=(num, arr))\n",
    "    p.start()\n",
    "    p.join()\n",
    "\n",
    "    print(num.value)\n",
    "    print(arr[:])"
   ]
  },
  {
   "cell_type": "markdown",
   "metadata": {},
   "source": [
    "3.1415927\n",
    "[0, -1, -2, -3, -4, -5, -6, -7, -8, -9]"
   ]
  },
  {
   "cell_type": "markdown",
   "metadata": {},
   "source": [
    "'d' ve 'i' degerleri \n",
    "- d == double float\n",
    "- i == integer"
   ]
  },
  {
   "cell_type": "markdown",
   "metadata": {},
   "source": [
    "## Server Process"
   ]
  },
  {
   "cell_type": "markdown",
   "metadata": {},
   "source": [
    "- Manager() fonkisyonu, yönetici olarak oluşturulan ve python objelerini kullanmayı ve değiştimeyi \n",
    "sağlayan bir obje return eder. Server gibi çalışır.\n",
    "- Desteklediği python objeleri list, dict, Namespace, Lock, RLock, Semaphore, BoundedSemaphore, Condition, Event, Barrier, Queue, Value and Array dir"
   ]
  },
  {
   "cell_type": "code",
   "execution_count": 2,
   "metadata": {},
   "outputs": [
    {
     "name": "stdout",
     "output_type": "stream",
     "text": [
      "{}\n",
      "[0, 1, 2, 3, 4, 5, 6, 7, 8, 9]\n"
     ]
    }
   ],
   "source": [
    "from multiprocessing import Process, Manager\n",
    "\n",
    "def f(d, l):\n",
    "    d[1] = '1'\n",
    "    d['2'] = 2\n",
    "    d[0.25] = None\n",
    "    l.reverse()\n",
    "\n",
    "if __name__ == '__main__':\n",
    "    with Manager() as manager:\n",
    "        d = manager.dict()\n",
    "        l = manager.list(range(10))\n",
    "\n",
    "        p = Process(target=f, args=(d, l))\n",
    "        p.start()\n",
    "        p.join()\n",
    "\n",
    "        print(d)\n",
    "        print(l)"
   ]
  },
  {
   "cell_type": "markdown",
   "metadata": {},
   "source": [
    "{0.25: None, 1: '1', '2': 2}\n",
    "[9, 8, 7, 6, 5, 4, 3, 2, 1, 0]"
   ]
  },
  {
   "cell_type": "markdown",
   "metadata": {},
   "source": [
    "Serveri process, keyfi nesne türlerini destekleyebildikleri için paylaşılan bellek nesnelerini kullanmaktan daha esnektir"
   ]
  },
  {
   "cell_type": "markdown",
   "metadata": {},
   "source": [
    "# Using a pool of workers"
   ]
  },
  {
   "cell_type": "markdown",
   "metadata": {},
   "source": [
    "Aşşağıda kare alma fonksiyonu belirtilmiştir. Bu işlem çok basit bir işlem olması bakımında örneğin cpuda tek 1 core da işleniyor. Pool() fonksiyonu bu işlemin bütün çekirdeklere bölmeye veya belirtlen sayıca çekirdekte çalışmasını sağlamaktadır."
   ]
  },
  {
   "cell_type": "code",
   "execution_count": null,
   "metadata": {},
   "outputs": [],
   "source": [
    "import multiprocessing \n",
    "import os \n",
    "  \n",
    "def square(n): \n",
    "    print(\"Worker process id for {0}: {1}\".format(n, os.getpid())) \n",
    "    return (n*n) \n",
    "  \n",
    "if __name__ == \"__main__\": \n",
    "    # input list \n",
    "    mylist = [1,2,3,4,5] \n",
    "  \n",
    "    # creating a pool object \n",
    "    p = multiprocessing.Pool() \n",
    "  \n",
    "    # map list to target function \n",
    "    result = p.map(square, mylist) \n",
    "  \n",
    "    print(result) "
   ]
  },
  {
   "cell_type": "markdown",
   "metadata": {},
   "source": [
    "Worker process id for 2: 4152\n",
    "\n",
    "Worker process id for 1: 4151\n",
    "\n",
    "Worker process id for 4: 4151\n",
    "\n",
    "Worker process id for 3: 4153\n",
    "\n",
    "Worker process id for 5: 4152\n",
    "\n",
    "[1, 4, 9, 16, 25]"
   ]
  },
  {
   "cell_type": "code",
   "execution_count": null,
   "metadata": {},
   "outputs": [],
   "source": []
  }
 ],
 "metadata": {
  "kernelspec": {
   "display_name": "Python 3",
   "language": "python",
   "name": "python3"
  },
  "language_info": {
   "codemirror_mode": {
    "name": "ipython",
    "version": 3
   },
   "file_extension": ".py",
   "mimetype": "text/x-python",
   "name": "python",
   "nbconvert_exporter": "python",
   "pygments_lexer": "ipython3",
   "version": "3.7.4"
  }
 },
 "nbformat": 4,
 "nbformat_minor": 2
}
